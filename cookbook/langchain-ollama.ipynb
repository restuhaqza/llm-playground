{
 "cells": [
  {
   "cell_type": "code",
   "execution_count": 4,
   "metadata": {},
   "outputs": [],
   "source": [
    "# import the Ollama class from the llms module\n",
    "from langchain_community.llms import Ollama\n",
    "llm = Ollama(model=\"llama3:8b\")"
   ]
  },
  {
   "cell_type": "code",
   "execution_count": 5,
   "metadata": {},
   "outputs": [
    {
     "data": {
      "text/plain": [
       "\"Hello, world! It's great to chat with you. How can I help or what would you like to talk about?\""
      ]
     },
     "execution_count": 5,
     "metadata": {},
     "output_type": "execute_result"
    }
   ],
   "source": [
    "# invoke the model with a prompt\n",
    "llm.invoke(\"Hello, world!\")"
   ]
  },
  {
   "cell_type": "code",
   "execution_count": 7,
   "metadata": {},
   "outputs": [
    {
     "name": "stdout",
     "output_type": "stream",
     "text": [
      "input_variables=['input'] messages=[SystemMessagePromptTemplate(prompt=PromptTemplate(input_variables=[], template='You are a world class technical documentation writer.')), HumanMessagePromptTemplate(prompt=PromptTemplate(input_variables=['input'], template='{input}'))]\n"
     ]
    }
   ],
   "source": [
    "# working with prompt templates\n",
    "from langchain_core.prompts import ChatPromptTemplate\n",
    "prompt = ChatPromptTemplate.from_messages([\n",
    "    (\"system\", \"You are a world class technical documentation writer.\"),\n",
    "    (\"user\", \"{input}\")\n",
    "])\n",
    "\n",
    "print(prompt)"
   ]
  },
  {
   "cell_type": "code",
   "execution_count": 9,
   "metadata": {},
   "outputs": [
    {
     "data": {
      "text/plain": [
       "\"As a technical documentation writer, I'm delighted to explore the connection between Langsmith and testing!\\n\\nLangsmith is an AI-powered tool designed for natural language processing (NLP) tasks, such as text summarization, question answering, and language translation. In the context of testing, Langsmith can be leveraged in several ways:\\n\\n1. **Automated Testing**: Langsmith's NLP capabilities can be used to generate test cases or inputs based on predefined rules, grammar, and syntax. This approach can help reduce manual testing efforts and improve test coverage.\\n2. **Error Detection**: By analyzing text-based outputs from a system or application under test, Langsmith can detect errors or anomalies in the data, such as incorrect formatting, syntax, or semantic issues.\\n3. **Test Data Generation**: Langsmith's language translation capabilities can be used to generate test data in different languages, ensuring that multilingual testing is possible and efficient.\\n4. **Text-Based Testing**: Langsmith's summarization and question answering features can be utilized for text-based testing scenarios, such as chatbots or voice assistants. The tool can help ensure that the system responds accurately and consistently to user inputs.\\n5. **Validation and Verification**: Langsmith's natural language processing capabilities can aid in validating and verifying test results by analyzing the output against expected outcomes, syntax, and semantics.\\n\\nTo integrate Langsmith with testing, you can:\\n\\n* Use Langsmith APIs to automate testing tasks\\n* Integrate Langsmith with your testing framework or tool (e.g., JUnit, Pytest) to leverage its NLP capabilities\\n* Utilize Langsmith's cloud-based services for on-demand processing of text data\\n\\nBy combining Langsmith's AI-powered language processing with your testing strategy, you can streamline testing processes, improve test coverage, and reduce manual testing efforts.\\n\\nHow would you like to explore the possibilities of using Langsmith in testing?\""
      ]
     },
     "execution_count": 9,
     "metadata": {},
     "output_type": "execute_result"
    }
   ],
   "source": [
    "# combining the prompt with the llm\n",
    "chain = prompt | llm\n",
    "\n",
    "chain.invoke(\"Explain the concept of a 'linked list' in computer science.\")"
   ]
  },
  {
   "cell_type": "code",
   "execution_count": null,
   "metadata": {},
   "outputs": [],
   "source": [
    "from langchain_core.output_parsers import StrOutputParser\n",
    "\n",
    "output_parser = StrOutputParser()"
   ]
  },
  {
   "cell_type": "code",
   "execution_count": null,
   "metadata": {},
   "outputs": [],
   "source": [
    "chain = prompt | llm | output_parser\n",
    "\n",
    "chain.invoke(\"Explain the concept of a 'linked list' in computer science.\")"
   ]
  }
 ],
 "metadata": {
  "kernelspec": {
   "display_name": "venv",
   "language": "python",
   "name": "python3"
  },
  "language_info": {
   "codemirror_mode": {
    "name": "ipython",
    "version": 3
   },
   "file_extension": ".py",
   "mimetype": "text/x-python",
   "name": "python",
   "nbconvert_exporter": "python",
   "pygments_lexer": "ipython3",
   "version": "3.11.5"
  }
 },
 "nbformat": 4,
 "nbformat_minor": 2
}
